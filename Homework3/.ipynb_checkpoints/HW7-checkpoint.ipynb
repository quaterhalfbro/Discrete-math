{
 "cells": [
  {
   "cell_type": "code",
   "execution_count": 1,
   "id": "53d5cc21",
   "metadata": {},
   "outputs": [],
   "source": [
    "from sklearn.linear_model import LinearRegression\n",
    "import numpy as np\n",
    "import time\n",
    "from math import sqrt\n",
    "from functools import lru_cache\n",
    "from relations_funcs import *\n",
    "import matplotlib.pyplot as plt"
   ]
  },
  {
   "cell_type": "markdown",
   "id": "282c7c36",
   "metadata": {},
   "source": [
    "# Homework 7"
   ]
  },
  {
   "cell_type": "markdown",
   "id": "1dbb391f",
   "metadata": {},
   "source": [
    "**1. For each given recurrence relation, find the first five terms, derive the closed-form solution, and\n",
    "check it by substituting it back to the recurrence relation**"
   ]
  },
  {
   "cell_type": "code",
   "execution_count": 2,
   "id": "7bd84feb",
   "metadata": {},
   "outputs": [],
   "source": [
    "def find_closed_form(r):    \n",
    "    koefs = {0: '1', 1: 'x', 2: 'x^2', 3: 'x^3', 4: '(-1)^x', 5: '2^x', 6: '3^x', 7: '5^x', 8: '7^x', 9: '(x * 2^x)'}\n",
    "    x = [[i, i**2, i**3, (-1)**i, 2**i, 3**i, 5**i, 7**i, i * (2**i)] for i in range(16)]\n",
    "    y = [r(i) for i in range(len(x))]\n",
    "    model = LinearRegression().fit(x, y)\n",
    "    c = [round(i * 100) / 100 for i in [model.intercept_] + list(model.coef_)]\n",
    "    formul = []\n",
    "    for i in range(len(koefs.keys())):\n",
    "        if c[i] != 0:\n",
    "            formul.append(str(c[i]) + \" * \" + koefs[i])\n",
    "    print(f\"Первые 5 значений отношения: {', '.join([str(r1(i)) for i in range(5)])}\\nФормула: f(x) = {' + '.join(formul)}\")"
   ]
  },
  {
   "cell_type": "markdown",
   "id": "a25f64fb",
   "metadata": {},
   "source": [
    "(a) $a_n = a_{n−1} + n$, $a_0 = 2$"
   ]
  },
  {
   "cell_type": "code",
   "execution_count": 3,
   "id": "59540734",
   "metadata": {},
   "outputs": [
    {
     "name": "stdout",
     "output_type": "stream",
     "text": [
      "Первые 5 значений отношения: 2, 3, 5, 8, 12\n",
      "Формула: f(x) = 2.0 * 1 + 0.5 * x + 0.5 * x^2\n"
     ]
    }
   ],
   "source": [
    "find_closed_form(r1)"
   ]
  },
  {
   "cell_type": "markdown",
   "id": "b5e9f56f",
   "metadata": {},
   "source": [
    "Проверка:\n",
    "\n",
    "$a_{n - 1} + n = 2 + 0.5 * (n - 1)^2 + 0.5 * (n - 1) + n - 1 = 0.5 * n^2 + 0.5 * n + 2 = a_n$"
   ]
  },
  {
   "cell_type": "markdown",
   "id": "3b32b2df",
   "metadata": {},
   "source": [
    "(b) $a_n = 2 * a_{n−1} + 2$, $a_0 = 1$"
   ]
  },
  {
   "cell_type": "code",
   "execution_count": 4,
   "id": "9cfe16cb",
   "metadata": {},
   "outputs": [
    {
     "name": "stdout",
     "output_type": "stream",
     "text": [
      "Первые 5 значений отношения: 2, 3, 5, 8, 12\n",
      "Формула: f(x) = -2.0 * 1 + 3.0 * 2^x\n"
     ]
    }
   ],
   "source": [
    "find_closed_form(r2)"
   ]
  },
  {
   "cell_type": "markdown",
   "id": "c65a206b",
   "metadata": {},
   "source": [
    "Проверка:\n",
    "\n",
    "$2 * a_{n - 1} + 2 = 2 * (3 * 2^{(n - 1)} - 2) + 2 = 3 * 2^n - 2 = a_n$"
   ]
  },
  {
   "cell_type": "markdown",
   "id": "56024a79",
   "metadata": {},
   "source": [
    "(c) $a_n = 3 * a_{n−1} + 2n$, $a_0 = 5$"
   ]
  },
  {
   "cell_type": "code",
   "execution_count": 5,
   "id": "f08eda86",
   "metadata": {},
   "outputs": [
    {
     "name": "stdout",
     "output_type": "stream",
     "text": [
      "Первые 5 значений отношения: 2, 3, 5, 8, 12\n",
      "Формула: f(x) = -2.0 * 2^x + 7.0 * 3^x\n"
     ]
    }
   ],
   "source": [
    "find_closed_form(r3)"
   ]
  },
  {
   "cell_type": "markdown",
   "id": "91282d1d",
   "metadata": {},
   "source": [
    "Проверка:\n",
    "\n",
    "$3 * a_{n - 1} + 2 * (n - 1) = 3 * (-2 * 2^{n - 1} + 7 * 3^{n - 1}) + 2 * (n - 1) = -2 * 2^n + 7 * 3^n = a_n$"
   ]
  },
  {
   "cell_type": "markdown",
   "id": "593f5e09",
   "metadata": {},
   "source": [
    "(d) $a_n = 4 * a_{n−1} + 5 * a_{n−2}$, $a_0 = 1, a_1 = 17$"
   ]
  },
  {
   "cell_type": "code",
   "execution_count": 6,
   "id": "6bae42ae",
   "metadata": {},
   "outputs": [
    {
     "name": "stdout",
     "output_type": "stream",
     "text": [
      "Первые 5 значений отношения: 2, 3, 5, 8, 12\n",
      "Формула: f(x) = -2.0 * (-1)^x + 3.0 * 5^x\n"
     ]
    }
   ],
   "source": [
    "find_closed_form(r4)"
   ]
  },
  {
   "cell_type": "markdown",
   "id": "f37ca0c4",
   "metadata": {},
   "source": [
    "Проверка:\n",
    "\n",
    "$4 * a_{n - 1} + 5 * a_{n - 2} = 4 * (-2 * (-1)^{n - 1} + 3 * 5^{n - 1}) + 5 * (-2 * (-1)^{n - 2} + 3 * 5^{n - 2}) = -2 * (-1)^n + 3 * 5^n = a_n$"
   ]
  },
  {
   "cell_type": "markdown",
   "id": "49f18e2a",
   "metadata": {},
   "source": [
    "(e) $a_n = 4 * a_{n−1} − 4 * a_{n−2}$, $a_0 = 3, a_1 = 11$"
   ]
  },
  {
   "cell_type": "code",
   "execution_count": 7,
   "id": "6c2c172e",
   "metadata": {},
   "outputs": [
    {
     "name": "stdout",
     "output_type": "stream",
     "text": [
      "Первые 5 значений отношения: 2, 3, 5, 8, 12\n",
      "Формула: f(x) = 3.0 * 2^x + 2.5 * (x * 2^x)\n"
     ]
    }
   ],
   "source": [
    "find_closed_form(r5)"
   ]
  },
  {
   "cell_type": "markdown",
   "id": "1a906a12",
   "metadata": {},
   "source": [
    "Проверка:\n",
    "\n",
    "$4 * a_{n−1} − 4 * a_{n−2} = 4 * (3 * 2^{n - 1} + 2.5 * ((n - 1) * 2^{n - 1})) - 4 * (3 * 2^{n - 2} + 2.5 * ((n - 2) * 2^{n - 2})) = 3 * 2^n + 2.5 * (x * 2^n) = a_n$"
   ]
  },
  {
   "cell_type": "markdown",
   "id": "dbb98bd3",
   "metadata": {},
   "source": [
    "(f) $a_n = 2 * a_{n−1} + a_{n−2} − 2 * a_{n−3}$, $a_{0,1,2} = 3, 2, 6$"
   ]
  },
  {
   "cell_type": "code",
   "execution_count": 8,
   "id": "10b2276b",
   "metadata": {},
   "outputs": [
    {
     "name": "stdout",
     "output_type": "stream",
     "text": [
      "Первые 5 значений отношения: 2, 3, 5, 8, 12\n",
      "Формула: f(x) = 1.0 * 1 + 1.0 * (-1)^x + 1.0 * 2^x\n"
     ]
    }
   ],
   "source": [
    "find_closed_form(r6)"
   ]
  },
  {
   "cell_type": "markdown",
   "id": "0d8ed205",
   "metadata": {},
   "source": [
    "Проверка:\n",
    "\n",
    "$2 * a_{n−1} + a_{n−2} − 2 * a_{n−3} = 2 * (1 + (-1)^{n - 1} + 2^{n - 1}) + (1 + (-1)^{n - 2} + 2^{n - 2}) - 2 * (1 + (-1)^{n - 3} + 2^{n - 3}) = 1 + (-1)^n + 2^n = a_n$"
   ]
  },
  {
   "cell_type": "markdown",
   "id": "8547e917",
   "metadata": {},
   "source": [
    "**Solve the following recurrences by applying the Master Theorem. For the cases where the Master\n",
    "theorem does not apply, use the Akra–Bazzi method. In cases where neither of these two theorems\n",
    "apply, explain why and solve the recurrence relation by closely examining the recursion tree.\n",
    "Solutions must be in the form T (n) ∈ Θ(. . . ).**"
   ]
  },
  {
   "cell_type": "markdown",
   "id": "58b9dc80",
   "metadata": {},
   "source": [
    "![jupiter](pictures\\1.jpg)"
   ]
  },
  {
   "cell_type": "markdown",
   "id": "3f6682d9",
   "metadata": {
    "pycharm": {
     "name": "#%% md\n"
    }
   },
   "source": [
    "![jupiter](pictures\\2.jpg)"
   ]
  },
  {
   "cell_type": "markdown",
   "id": "823b8a5e",
   "metadata": {
    "pycharm": {
     "name": "#%% md\n"
    }
   },
   "source": [
    "![jupiter](pictures\\3.jpg)"
   ]
  },
  {
   "cell_type": "markdown",
   "id": "cc6813d6",
   "metadata": {
    "pycharm": {
     "name": "#%% md\n"
    }
   },
   "source": [
    "![jupiter](pictures\\4.jpg)"
   ]
  },
  {
   "cell_type": "markdown",
   "id": "2e0cce42",
   "metadata": {
    "pycharm": {
     "name": "#%% md\n"
    }
   },
   "source": [
    "![jupiter](pictures\\5.jpg)"
   ]
  },
  {
   "cell_type": "code",
   "execution_count": 9,
   "id": "c89628c2",
   "metadata": {
    "pycharm": {
     "name": "#%%\n"
    }
   },
   "outputs": [
    {
     "name": "stdout",
     "output_type": "stream",
     "text": [
      "2.2\n"
     ]
    }
   ],
   "source": [
    "mn = 10\n",
    "for i in range(100):\n",
    "    p = i / 10\n",
    "    value = 2 * (1 / 3)**p + 2 * (2 / 3)**p\n",
    "    if abs(value - 1) < mn:\n",
    "        mn = abs(value - 1)\n",
    "        arg = p\n",
    "print(arg)"
   ]
  },
  {
   "cell_type": "markdown",
   "id": "31066eb7",
   "metadata": {
    "pycharm": {
     "name": "#%% md\n"
    }
   },
   "source": [
    "![jupiter](pictures\\6.jpg)"
   ]
  },
  {
   "cell_type": "markdown",
   "id": "d5fc4798",
   "metadata": {
    "pycharm": {
     "name": "#%% md\n"
    }
   },
   "source": [
    "![jupiter](pictures\\7.jpg)"
   ]
  },
  {
   "cell_type": "markdown",
   "id": "69001c18",
   "metadata": {
    "pycharm": {
     "name": "#%% md\n"
    }
   },
   "source": [
    "![jupiter](pictures\\8.jpg)"
   ]
  },
  {
   "cell_type": "markdown",
   "id": "838b7417",
   "metadata": {},
   "source": [
    "**3. Consider a recurrence relation an = 2an−1 + 2an−2 with a0 = a1 = 2. Solve it (i.e. find a closed\n",
    "formula) and show how it can be used to estimate the value of √3 (hint: observe limn→∞ an/an−1). After that, devise an algorithm for constructing a recurrence relation with integer coefficients that can be used to estimate the square root √k of a given integer k. Implement your algorithm using any high-level language and benchmark1 it against the standard sqrt function.**"
   ]
  },
  {
   "cell_type": "markdown",
   "id": "8d54fafc",
   "metadata": {
    "pycharm": {
     "name": "#%% md\n"
    }
   },
   "source": [
    "![jupiter](pictures\\9.jpg)"
   ]
  },
  {
   "cell_type": "markdown",
   "id": "c412a60e",
   "metadata": {
    "pycharm": {
     "name": "#%% md\n"
    }
   },
   "source": [
    "![jupiter](pictures\\10.jpg)"
   ]
  },
  {
   "cell_type": "code",
   "execution_count": 10,
   "id": "dff4ed5d",
   "metadata": {
    "pycharm": {
     "name": "#%%\n"
    }
   },
   "outputs": [],
   "source": [
    "@lru_cache(10000)\n",
    "def a_n(n: int, k: int):\n",
    "    if n in [0, 1]:\n",
    "        return 2\n",
    "    return 2 * a_n(n - 1, k) - (1 - k) * a_n(n - 2, k)\n",
    "\n",
    "\n",
    "def my_sqrt(k):\n",
    "    return a_n(1000, k) / a_n(999, k) - 1"
   ]
  },
  {
   "cell_type": "code",
   "execution_count": 11,
   "id": "3bcfb02d",
   "metadata": {
    "pycharm": {
     "name": "#%%\n"
    }
   },
   "outputs": [
    {
     "data": {
      "image/png": "[encoded data removed]",
      "text/plain": [
       "<Figure size 432x288 with 1 Axes>"
      ]
     },
     "metadata": {
      "needs_background": "light"
     },
     "output_type": "display_data"
    }
   ],
   "source": [
    "history = [a_n(i + 1, 2583) / a_n(i, 2583) - 1 for i in range(50)]\n",
    "plt.plot(range(50), history, color=\"blue\", label=\"My sqrt of 2583\")\n",
    "plt.plot(range(50), [sqrt(2583)] * 50, color=\"red\", label=\"math.sqrt of 2583\")\n",
    "plt.xlabel(\"n\")\n",
    "plt.legend()\n",
    "plt.show()"
   ]
  },
  {
   "cell_type": "code",
   "execution_count": 12,
   "id": "ffdc2408",
   "metadata": {
    "pycharm": {
     "name": "#%%\n"
    }
   },
   "outputs": [
    {
     "name": "stdout",
     "output_type": "stream",
     "text": [
      "My sqrt time 1.8381338119506836\n",
      "math.sqrt time 0.0010001659393310547\n",
      "MSE: 0.9111590344682543\n",
      "MAE: 0.9484586086442125\n"
     ]
    }
   ],
   "source": [
    "mae = []\n",
    "mse = []\n",
    "for i in range(90000, 100000):\n",
    "    value_true = sqrt(i)\n",
    "    predicted_value = my_sqrt(i)\n",
    "    mse.append((value_true - predicted_value)**2)\n",
    "    mae.append(abs(predicted_value - value_true))\n",
    "start = time.time()\n",
    "for i in range(9000, 10000):\n",
    "    predicted_value = my_sqrt(i)\n",
    "print(f\"My sqrt time {time.time() - start}\")\n",
    "start = time.time()\n",
    "for i in range(9000, 10000):\n",
    "    predicted_value = sqrt(i)\n",
    "print(f\"math.sqrt time {time.time() - start}\")\n",
    "print(f\"MSE: {sum(mse) / len(mse)}\\nMAE: {sum(mae) / len(mae)}\")"
   ]
  },
  {
   "cell_type": "code",
   "execution_count": null,
   "id": "0772fe16",
   "metadata": {
    "pycharm": {
     "name": "#%%\n"
    }
   },
   "outputs": [],
   "source": []
  },
  {
   "cell_type": "code",
   "execution_count": null,
   "id": "57691b33",
   "metadata": {},
   "outputs": [],
   "source": []
  }
 ],
 "metadata": {
  "kernelspec": {
   "display_name": "Python 3 (ipykernel)",
   "language": "python",
   "name": "python3"
  },
  "language_info": {
   "codemirror_mode": {
    "name": "ipython",
    "version": 3
   },
   "file_extension": ".py",
   "mimetype": "text/x-python",
   "name": "python",
   "nbconvert_exporter": "python",
   "pygments_lexer": "ipython3",
   "version": "3.9.7"
  }
 },
 "nbformat": 4,
 "nbformat_minor": 5
}
