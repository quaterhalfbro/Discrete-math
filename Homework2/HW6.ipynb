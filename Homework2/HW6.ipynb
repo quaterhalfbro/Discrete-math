{
 "cells": [
  {
   "cell_type": "markdown",
   "id": "42e7f805",
   "metadata": {},
   "source": [
    "# Discrete Math HW 6"
   ]
  },
  {
   "cell_type": "code",
   "execution_count": 1,
   "id": "19cc5037",
   "metadata": {},
   "outputs": [],
   "source": [
    "import itertools\n",
    "from formuls_functions_for_task_2 import *"
   ]
  },
  {
   "cell_type": "markdown",
   "id": "af16d598",
   "metadata": {},
   "source": [
    "**1. Find the number of different 5-digit numbers using digits 1–9 under the given constraints. For each case, provide representative examples of (non-)complying numbers (e.g., 12345 and 52814 are suitable for (b), but 44521 and 935 are not) and derive a generic1 formula. Try to express the formula using standard combinatorial terms, e.g., k-combs $C^k_n$ and k-perms P (n, k).**"
   ]
  },
  {
   "cell_type": "markdown",
   "id": "a416bce2",
   "metadata": {},
   "source": [
    "(a) Digits can be repeated."
   ]
  },
  {
   "cell_type": "markdown",
   "id": "3939a8d8",
   "metadata": {},
   "source": [
    "**Примеры подходящих чисел:** 11111, 11112, 34514...\n",
    "\n",
    "**Примеры неподходящих чисел:** 11011, 111112, 257,25789...\n",
    "\n",
    "Так как на любой из 5 позиций может стоять любая из 9 цифр, то, цифры независимы друг от друга и каждая новая цифра в числе, умножает количество вариантов на 9. Обобщенная формула: $k^n$, где k - количество разрядов, n - количество допустимых токенов. Ответ: $9^5 = 59049$\n",
    "\n",
    "Проверка:"
   ]
  },
  {
   "cell_type": "code",
   "execution_count": 2,
   "id": "390e84ff",
   "metadata": {},
   "outputs": [
    {
     "data": {
      "text/plain": [
       "59049"
      ]
     },
     "execution_count": 2,
     "metadata": {},
     "output_type": "execute_result"
    }
   ],
   "source": [
    "len(list(itertools.product(\"123456789\", repeat=5)))"
   ]
  },
  {
   "cell_type": "markdown",
   "id": "fb5d513b",
   "metadata": {},
   "source": [
    "(b) Digits cannot be repeated."
   ]
  },
  {
   "cell_type": "markdown",
   "id": "9dc44c8a",
   "metadata": {},
   "source": [
    "**Примеры подходящих чисел:** 12345, 24375, 98765...\n",
    "\n",
    "**Примеры неподходящих чисел:** 11234, 123456, 257,13...\n",
    "\n",
    "В этот раз с каждой последущей позицией, словарь сокращается на 1 токен, поэтому ответом будет $\\prod_{i=n-k + 1}^{k} i = \\frac{k!}{(k - n)!}$, где k - количество разрядов, n - количество допустимых токенов. Ответ: 9 * 8 * 7 * 6 * 5 = 15120\n",
    "\n",
    "Проверка:"
   ]
  },
  {
   "cell_type": "code",
   "execution_count": 3,
   "id": "2e7e26a9",
   "metadata": {},
   "outputs": [
    {
     "data": {
      "text/plain": [
       "15120"
      ]
     },
     "execution_count": 3,
     "metadata": {},
     "output_type": "execute_result"
    }
   ],
   "source": [
    "len(list(itertools.permutations(\"123456789\", 5)))"
   ]
  },
  {
   "cell_type": "markdown",
   "id": "89ff3f1a",
   "metadata": {},
   "source": [
    "(c) Digits can be repeated and must be written in non-increasing order."
   ]
  },
  {
   "cell_type": "markdown",
   "id": "f6fa737c",
   "metadata": {},
   "source": [
    "**Примеры подходящих чисел:** 11111, 54321, 977511\n",
    "\n",
    "**Примеры неподходящих чисел:** 54329, 987654321, 11112...\n",
    "\n",
    "Так как имея набор цифр, по нему можно однозначно восстановить исходное число, то позиции цифр не важны, нужно найти количество способов выбрать k цифр из n токенов. Для этого воспользуемся формулой сочетаний с повторениями: $C^{k - 1}_{n + k + 1} = \\frac{(n + k - 1)!}{k! (n - 1)!}$ Ответ: $\\frac{(5 + 5 - 1)!}{8!5!} = 1287$\n",
    "\n",
    "\n",
    "Проверка:"
   ]
  },
  {
   "cell_type": "code",
   "execution_count": 4,
   "id": "5d1ed29d",
   "metadata": {},
   "outputs": [
    {
     "data": {
      "text/plain": [
       "1287"
      ]
     },
     "execution_count": 4,
     "metadata": {},
     "output_type": "execute_result"
    }
   ],
   "source": [
    "pr = [\"\".join(i) for i in itertools.product(\"123456789\", repeat=5)]\n",
    "len(list(filter(lambda x: list(x) == sorted(x, reverse=True), pr)))"
   ]
  },
  {
   "cell_type": "markdown",
   "id": "ba50b103",
   "metadata": {},
   "source": [
    "(d) Digits cannot be repeated and must be written in strictly increasing order."
   ]
  },
  {
   "cell_type": "markdown",
   "id": "3895ae14",
   "metadata": {},
   "source": [
    "**Примеры подходящих чисел:** 12345, 23459, 13579\n",
    "\n",
    "**Примеры неподходящих чисел:** 55555, 1234567, 1234,5...\n",
    "\n",
    "Аналогично с предыдущем пунктом, нас не интересует расположение цифр, нужно посчитать количество сочитаний n цифр k раз: $C^n_k = \\frac{k!}{n!(k - n)!}$ Ответ: $\\frac{9!}{5!4!} = 126$\n",
    "\n",
    "Проверка:"
   ]
  },
  {
   "cell_type": "code",
   "execution_count": 5,
   "id": "12f0a609",
   "metadata": {},
   "outputs": [
    {
     "data": {
      "text/plain": [
       "126"
      ]
     },
     "execution_count": 5,
     "metadata": {},
     "output_type": "execute_result"
    }
   ],
   "source": [
    "pr = [\"\".join(i) for i in itertools.permutations(\"123456789\", 5)]\n",
    "len(list(filter(lambda x: list(x) == sorted(x, reverse=True), pr)))"
   ]
  },
  {
   "cell_type": "markdown",
   "id": "fc70e1c4",
   "metadata": {},
   "source": [
    "(e) Digits can be repeated, must be written in non-decreasing order, and the 4th digit must be 6."
   ]
  },
  {
   "cell_type": "markdown",
   "id": "dc4df6a3",
   "metadata": {},
   "source": [
    "**Примеры подходящих чисел:** 12367, 12366, 66666\n",
    "\n",
    "**Примеры неподходящих чисел:** 12345, 98765, 6666666666666...\n",
    "\n",
    "Пусть k - количество цифр числа, а n - размер словаря. Если i-ое число задано однозначно как p, то с 1-ого по (i - 1)-ое число есть (i - 1) позиция\n",
    " на которых могут стоять неубывающие цифры из промежутка [1, p]. Аналогично, после i-ой позиции есть (k - i - 1) позиция, где могут стоять числа из промежутка [p, n]. Тогда слева от i-ой позиции могут стоять $C^{i - 2}_{p + i} = \\frac{(p + i - 2)!}{(i - 1)! (p - 1)!}$ вариантов числа, а справа $C^{k - i - 2}_{n - p + 1 + k - i} = \\frac{(n - p + k - i - 1)!}{(k - i - 1)! (n - p)!}$ так как эти числа независимы, ответом будет их произведение. Ответ: $C^5_8 * C^3_4 = \\frac{8!4!}{5!3!3!} = 224$\n",
    "    \n",
    "Проверка:"
   ]
  },
  {
   "cell_type": "code",
   "execution_count": 6,
   "id": "4c5edae0",
   "metadata": {},
   "outputs": [
    {
     "data": {
      "text/plain": [
       "224"
      ]
     },
     "execution_count": 6,
     "metadata": {},
     "output_type": "execute_result"
    }
   ],
   "source": [
    "pr = [\"\".join(i) for i in itertools.product(\"123456789\", repeat=5)]\n",
    "len(list(filter(lambda x: list(x) == sorted(x) and x[3] == \"6\", pr)))"
   ]
  },
  {
   "cell_type": "markdown",
   "id": "b6fef463",
   "metadata": {},
   "source": [
    "**2. One of the classical combinatorial problems is counting the number of arrangements of n balls\n",
    "into k boxes. There are at least 12 variations of this problem: four cases (a–d) with three different\n",
    "constraints (1–3). For each problem (case+constraint), derive the corresponding generic formula.\n",
    "Additionally, pick several (representative) values for n and k and use your derived formulae to find\n",
    "the numbers of arrangements. Visualize several possible arrangements for the chosen n and k.**"
   ]
  },
  {
   "cell_type": "markdown",
   "id": "c8499055",
   "metadata": {},
   "source": [
    "**(a) U → L: Balls are Unlabeled, Boxes are Labeled.**"
   ]
  },
  {
   "cell_type": "markdown",
   "id": "1dbf5293",
   "metadata": {},
   "source": [
    "1. ≤ 1 ball per box— injective mapping.\n",
    "\n",
    "Нужно выбрать n коробок из k, куда положить шары. Это будет по определению $C^n_k$ вариантов\n",
    "\n",
    "2. ≥ 1 ball per box— surjective mapping.\n",
    "\n",
    "Так как не может быть пустых коробок, сначала нужно разложить в коробки по 1 шару и оставшиеся  (n - k) шаров разложить по любым коробкам. Это будет $C^{k - 1}_{n - 1}$ вариантов\n",
    "\n",
    "3. Arbitrary number of balls per box.\n",
    "\n",
    "Нужно выбрать n коробок с повторениями из k, куда положить шары. Это, по определению, формула сочетаний с повторениями: $C^{k-1}_{n + k - 1}$"
   ]
  },
  {
   "cell_type": "markdown",
   "id": "59a2c549",
   "metadata": {},
   "source": [
    "**(b) L → U: Balls are Labeled, Boxes are Unlabeled.**\n",
    "\n",
    "1. ≤ 1 ball per box— injective mapping.\n",
    "\n",
    "Если n > k, то ответ очевидно 0. Иначе, всего 1 способ, так как коробки не размечены. Итоговая формула: relu(max(k - n, 1))\n",
    "\n",
    "2. ≥ 1 ball per box— surjective mapping.\n",
    "\n",
    "Это, по определению, число Стирлинга второго рода: S(n, k)\n",
    "\n",
    "3. Arbitrary number of balls per box.\n",
    "\n",
    "Мы можем оставить пустыми от 1 до k коробок. Для каждого вариатна, вспоминая пункт 2, будет S(n, i) вариантов, где i - количество непустых коробок. итоговая формула: $\\sum_{i=1}^{k} S(n, i)$"
   ]
  },
  {
   "cell_type": "markdown",
   "id": "6cab2365",
   "metadata": {},
   "source": [
    "**(c) L → L: Balls are Labeled, Boxes are Labeled.**\n",
    "\n",
    "1. ≤ 1 ball per box— injective mapping.\n",
    "\n",
    "Задача аналогична задаче про цифры 1b. Формула выводится также, она имеет вид: $\\frac{k!}{(k - n)!}$\n",
    "\n",
    "2. ≥ 1 ball per box— surjective mapping.\n",
    "\n",
    "То же самое, что и в a2, только, за счет того, что шары размечены, домнажаем на n! Итоговая формула: $C^{k - 1}_{n - 1} n!$\n",
    "\n",
    "3. Arbitrary number of balls per box.\n",
    "\n",
    "Задача аналогична задаче про цифры 1a. Формула выводится также, она имеет вид: $k^n$"
   ]
  },
  {
   "cell_type": "markdown",
   "id": "8f007255",
   "metadata": {},
   "source": [
    "**(d) U → U: Balls are Unlabeled, Boxes are Unlabeled.**\n",
    "\n",
    "1. ≤ 1 ball per box— injective mapping.\n",
    "\n",
    "Задача аналогична пункту b1. Итоговая формула: relu(max(k - n, 1))\n",
    "\n",
    "2. ≥ 1 ball per box— surjective mapping.\n",
    "\n",
    "Нужно разложить n на сумму из k чисел > 0. Это $p_k(n)$, где $p_0(n) = 0, p_n(n) = 1, p_k(n) = p_k(n - k) + p_{k - 1}(n - 1)$\n",
    "\n",
    "3. Arbitrary number of balls per box.\n",
    "\n",
    "Может быть от 1 до k непустых коробок, для каждого такого случая ответ будет аналогично предыдущему пункту p_i(n). Итоговая формула: $\\sum_{i=1}^{k} p_i(n)$"
   ]
  },
  {
   "cell_type": "markdown",
   "id": "b1950660",
   "metadata": {},
   "source": [
    "*Примеры:*"
   ]
  },
  {
   "cell_type": "code",
   "execution_count": 7,
   "id": "5090cb8e",
   "metadata": {},
   "outputs": [
    {
     "name": "stdout",
     "output_type": "stream",
     "text": [
      "Example for a1 and values k=3 n=4: 0\n",
      "Example for a2 and values k=3 n=4: 3\n",
      "Example for a3 and values k=3 n=4: 15\n",
      "Example for b1 and values k=3 n=4: 0\n",
      "Example for b2 and values k=3 n=4: 6\n",
      "Example for b3 and values k=3 n=4: 8\n",
      "Example for c1 and values k=3 n=4: 0\n",
      "Example for c2 and values k=3 n=4: 72\n",
      "Example for c3 and values k=3 n=4: 81\n",
      "Example for d1 and values k=3 n=4: 0\n",
      "Example for d2 and values k=3 n=4: 1\n",
      "Example for d3 and values k=3 n=4: 3\n"
     ]
    }
   ],
   "source": [
    "n = 4\n",
    "k = 3\n",
    "for letter in \"abcd\":\n",
    "    for p in \"123\":\n",
    "        exec(f\"func = {letter + p}\")\n",
    "        print(f\"Example for {letter}{p} and values k={k} n={n}: {func(k, n)}\")"
   ]
  },
  {
   "cell_type": "markdown",
   "id": "1fd89608",
   "metadata": {},
   "source": [
    "**3. Proof the Generalized Pascal’s Formula (for n ≥ 1 and k1, . . . , kr ≥ 0 with k1 + · · · +kr = n)**"
   ]
  },
  {
   "cell_type": "markdown",
   "id": "f7841f58",
   "metadata": {},
   "source": [
    "![jupyter](images/im1.jpg)"
   ]
  },
  {
   "cell_type": "markdown",
   "id": "50eb6ce8",
   "metadata": {},
   "source": [
    "**Count the number of permutations of a multiset Σ = {2 · △, 3 · □, 1 · } using GPF.**"
   ]
  },
  {
   "cell_type": "markdown",
   "id": "1245ec57",
   "metadata": {},
   "source": [
    "![jupyter](images/im2.jpg)"
   ]
  },
  {
   "cell_type": "markdown",
   "id": "91359e56",
   "metadata": {},
   "source": [
    "**4. A non-crossing perfect matching3 in a graph is a set of pairwise disjoint edges that cover all vertices\n",
    "and do not intersect with each other. For example, consider a graph on 2n vertices numbered\n",
    "from 1 to 2n and arranged in a circle. Additionally, assume that edges are straight lines. In this case,\n",
    "edges {i, j } and {a, b} intersect whenever i < a < j < b.**"
   ]
  },
  {
   "cell_type": "markdown",
   "id": "5f3b8532",
   "metadata": {},
   "source": [
    "(a) Count the number of all possible non-crossing perfect matchings in a complete graph K2n."
   ]
  },
  {
   "cell_type": "code",
   "execution_count": 8,
   "id": "f6f8a6b4",
   "metadata": {},
   "outputs": [],
   "source": [
    "def count_ncpm(n):\n",
    "    k = 2 * n\n",
    "    variants = list(itertools.permutations(\"\".join([str(i) for i in range(k)]), k))\n",
    "    non_repeated_variants = set()\n",
    "    for i in variants:\n",
    "        edges = set()\n",
    "        correct = True\n",
    "        for j in range(len(i) // 2):\n",
    "            if i[j * 2] > i[j * 2 + 1]:\n",
    "                correct = False\n",
    "                break\n",
    "            else:\n",
    "                edges.add((i[j * 2], i[j * 2 + 1]))\n",
    "        if correct:\n",
    "            non_repeated_variants.add(tuple([i for i in edges]))\n",
    "    total = 0\n",
    "    for i in non_repeated_variants:\n",
    "        non_crossed = True\n",
    "        for e1 in range(len(i) // 2 - 2):\n",
    "            for e2 in range(e1 * 2 + 2, len(i) // 2):\n",
    "                if i[e1] < i[e2] < i[e1 + 1] < i[e2 + 1]:\n",
    "                    non_crossed = False\n",
    "                    break\n",
    "            if not non_crossed:\n",
    "                break\n",
    "        if non_crossed:\n",
    "            total += 1\n",
    "    return total"
   ]
  },
  {
   "cell_type": "code",
   "execution_count": 12,
   "id": "e1e95976",
   "metadata": {},
   "outputs": [
    {
     "name": "stdout",
     "output_type": "stream",
     "text": [
      "18\n"
     ]
    }
   ],
   "source": [
    "print(count_ncpm(3))"
   ]
  },
  {
   "cell_type": "markdown",
   "id": "9c174c0f",
   "metadata": {},
   "source": [
    "(b) Consider a graph on vertices labeled with letters from {A, C, G, U}. Each pair of vertices labeled\n",
    "with A and U is connected with a basepair edge. Similarly, C–G pairs are also connected.\n",
    "The picture below illustrates some of possible non-crossing perfect matchings in the graph\n",
    "with 12 vertices AUCGUAAUCGCG arranged in a circle. Basepair edges are drawn dashed gray,\n",
    "matching is red. Count the number of all possible non-crossing perfect matchings in the graph on 20 vertices\n",
    "arranged in a circle and labeled with CGUAAUUACGGCAUUAGCAU."
   ]
  },
  {
   "cell_type": "code",
   "execution_count": 10,
   "id": "5a9c6259",
   "metadata": {},
   "outputs": [
    {
     "name": "stdout",
     "output_type": "stream",
     "text": [
      "21\n"
     ]
    }
   ],
   "source": [
    "s = \"CGUAAUUACGGCAUUAGCAU\"\n",
    "\n",
    "d = {\"A\": 0, \"U\": 1, \"C\": 2, \"G\": 3}\n",
    "\n",
    "counts = [0] * 4\n",
    "for i in s:\n",
    "    counts[d[i]] += 1\n",
    "\n",
    "all_variants = []\n",
    "\n",
    "def r(s, cnts):\n",
    "    if sum(cnts) == 0:\n",
    "        all_variants.append(s)\n",
    "    new_cnts = cnts[:]\n",
    "    if len(s) != 0:\n",
    "        new_cnts[d[s[-1]]] -= 1\n",
    "    if len(s) % 2 == 1:\n",
    "        if s[-1] == \"A\":\n",
    "            if cnts[1] > 0:\n",
    "                r(s + \"U\", new_cnts)\n",
    "        elif s[-1] == \"G\":\n",
    "            if cnts[3] > 0:\n",
    "                r(s + \"C\", new_cnts)\n",
    "    else:\n",
    "        if cnts[0] > 0:\n",
    "            r(s + \"A\", new_cnts)\n",
    "        if cnts[2] > 0:\n",
    "            r(s + \"G\", new_cnts)\n",
    "\n",
    "r(\"\", counts)\n",
    "\n",
    "total = 0\n",
    "for i in all_variants:\n",
    "    non_crossed = True\n",
    "    for e1 in range(len(i) // 2 - 2):\n",
    "        for e2 in range(e1 * 2 + 2, len(i) // 2):\n",
    "            if i[e1] < i[e2] < i[e1 + 1] < i[e2 + 1]:\n",
    "                non_crossed = False\n",
    "                break\n",
    "        if not non_crossed:\n",
    "            break\n",
    "    if non_crossed:\n",
    "        total += 1\n",
    "print(total // 4)"
   ]
  },
  {
   "cell_type": "code",
   "execution_count": null,
   "id": "0dd38066",
   "metadata": {},
   "outputs": [],
   "source": []
  }
 ],
 "metadata": {
  "kernelspec": {
   "display_name": "Python 3 (ipykernel)",
   "language": "python",
   "name": "python3"
  },
  "language_info": {
   "codemirror_mode": {
    "name": "ipython",
    "version": 3
   },
   "file_extension": ".py",
   "mimetype": "text/x-python",
   "name": "python",
   "nbconvert_exporter": "python",
   "pygments_lexer": "ipython3",
   "version": "3.9.7"
  }
 },
 "nbformat": 4,
 "nbformat_minor": 5
}
